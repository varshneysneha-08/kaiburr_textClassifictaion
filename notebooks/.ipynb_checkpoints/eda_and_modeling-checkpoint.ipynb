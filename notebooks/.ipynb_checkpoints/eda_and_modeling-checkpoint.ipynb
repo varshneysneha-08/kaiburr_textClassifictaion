{
 "cells": [
  {
   "cell_type": "code",
   "execution_count": null,
   "id": "78002065",
   "metadata": {},
   "outputs": [
    {
     "ename": "",
     "evalue": "",
     "output_type": "error",
     "traceback": [
      "\u001b[1;31mFailed to start the Kernel. \n",
      "\u001b[1;31mThe kernel died. Error: ... View Jupyter <a href='command:jupyter.viewOutput'>log</a> for further details."
     ]
    }
   ],
   "source": [
    "print(\"Sneha Varshney\")\n"
   ]
  },
  {
   "cell_type": "code",
   "execution_count": null,
   "id": "128dcaf1",
   "metadata": {},
   "outputs": [],
   "source": []
  }
 ],
 "metadata": {
  "kernelspec": {
   "display_name": "venv",
   "language": "python",
   "name": "python3"
  },
  "language_info": {
   "name": "python",
   "version": "3.13.1"
  }
 },
 "nbformat": 4,
 "nbformat_minor": 5
}
